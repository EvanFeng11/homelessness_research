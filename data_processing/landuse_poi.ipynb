{
 "cells": [
  {
   "cell_type": "markdown",
   "id": "828ce3b5",
   "metadata": {},
   "source": [
    "把shp文件整合，提取不同边界内部的poi类别数量。\n",
    "\n",
    "landuse数据会溢出部分边界，所以在苏格兰和威尔士的几部分local authority会有一些数值;\n",
    "\n",
    "19个分类，后面汇总成各种其他的共三类；\n",
    "\n",
    "fclass分成三类，居住与商业：residential, commercial, retail, industrial，农业与农村：farmland, farmyard, orchard, meadow, allotments，quarry, military，自然与生态公共与休闲：forest, grass, heath, scrub, nature_reserve，park, recreation_ground, cemetery，把面积数量比例都合并，LAD_landuse_group_stats_en.csv\n",
    "\n",
    "最终版本，有一些苏格兰和威尔士区域\n",
    "\n",
    "这个用来算面积比例,output_data/LAD_landuse_group_stats_wide.csv"
   ]
  },
  {
   "cell_type": "code",
   "execution_count": 1,
   "id": "eafd565a",
   "metadata": {},
   "outputs": [
    {
     "name": "stdout",
     "output_type": "stream",
     "text": [
      "(2044537, 5)\n",
      "(374, 9)\n",
      "EPSG:4326\n",
      "EPSG:27700\n"
     ]
    }
   ],
   "source": [
    "import geopandas as gpd\n",
    "\n",
    "# 读取两个shp文件\n",
    "landuse = gpd.read_file('POI/gis_osm_landuse_a_free_1.shp')\n",
    "lad = gpd.read_file('POI/LAD_MAY_2021_UK_BUC.shp')\n",
    "\n",
    "print(landuse.shape)\n",
    "print(lad.shape)\n",
    "print(landuse.crs)\n",
    "print(lad.crs)"
   ]
  },
  {
   "cell_type": "code",
   "execution_count": 7,
   "id": "c00c8d43",
   "metadata": {},
   "outputs": [
    {
     "name": "stdout",
     "output_type": "stream",
     "text": [
      "  LAD21NM      fclass  count\n",
      "0    Adur  allotments     17\n",
      "1    Adur    cemetery      6\n",
      "2    Adur  commercial     15\n",
      "3    Adur    farmland    190\n",
      "4    Adur    farmyard     21\n"
     ]
    }
   ],
   "source": [
    "# 转换landuse坐标系为lad的坐标系\n",
    "landuse = landuse.to_crs(lad.crs)\n",
    "\n",
    "# 空间连接\n",
    "joined = gpd.sjoin(landuse, lad, how='inner', predicate='intersects')\n",
    "\n",
    "# 分组统计\n",
    "result = (\n",
    "    joined\n",
    "    .groupby(['LAD21NM', 'fclass'])\n",
    "    .size()\n",
    "    .reset_index(name='count')\n",
    ")\n",
    "\n",
    "# 显示结果\n",
    "print(result.head())"
   ]
  },
  {
   "cell_type": "code",
   "execution_count": 8,
   "id": "83c5dd61",
   "metadata": {},
   "outputs": [
    {
     "name": "stdout",
     "output_type": "stream",
     "text": [
      "     LAD21CD     LAD21NM      fclass  count\n",
      "0  E06000001  Hartlepool  allotments     18\n",
      "1  E06000001  Hartlepool    cemetery      8\n",
      "2  E06000001  Hartlepool  commercial     23\n",
      "3  E06000001  Hartlepool    farmland     29\n",
      "4  E06000001  Hartlepool    farmyard     43\n"
     ]
    }
   ],
   "source": [
    "# 分组统计，保留编号\n",
    "result = (\n",
    "    joined\n",
    "    .groupby(['LAD21CD', 'LAD21NM', 'fclass'])\n",
    "    .size()\n",
    "    .reset_index(name='count')\n",
    ")\n",
    "\n",
    "# 显示结果\n",
    "print(result.head())\n"
   ]
  },
  {
   "cell_type": "code",
   "execution_count": 9,
   "id": "efd93742",
   "metadata": {},
   "outputs": [
    {
     "name": "stdout",
     "output_type": "stream",
     "text": [
      "     LAD21CD     LAD21NM      fclass          area  count    total_area  \\\n",
      "0  E06000001  Hartlepool  allotments  3.792989e+05     18  1.042565e+08   \n",
      "1  E06000001  Hartlepool    cemetery  4.527185e+05      8  1.042565e+08   \n",
      "2  E06000001  Hartlepool  commercial  1.025941e+06     23  1.042565e+08   \n",
      "3  E06000001  Hartlepool    farmland  5.655965e+07     29  1.042565e+08   \n",
      "4  E06000001  Hartlepool    farmyard  5.239244e+05     43  1.042565e+08   \n",
      "\n",
      "   area_ratio  \n",
      "0    0.003638  \n",
      "1    0.004342  \n",
      "2    0.009841  \n",
      "3    0.542505  \n",
      "4    0.005025  \n"
     ]
    }
   ],
   "source": [
    "# 输出数量和面积\n",
    "\n",
    "import pandas as pd\n",
    "\n",
    "# 2. 坐标系转换（确保单位为米）\n",
    "target_crs = 'EPSG:27700'\n",
    "lad = lad.to_crs(target_crs)\n",
    "landuse = landuse.to_crs(target_crs)\n",
    "\n",
    "# 3. 计算土地利用多边形面积\n",
    "landuse['area'] = landuse.geometry.area  # 单位：平方米\n",
    "\n",
    "# 4. 空间连接，将 landuse 归入 LAD\n",
    "joined = gpd.sjoin(landuse, lad, how='inner', predicate='intersects')\n",
    "\n",
    "# 5. 按 LAD 和 fclass 分组，统计面积和数量\n",
    "grouped = (\n",
    "    joined\n",
    "    .groupby(['LAD21CD', 'LAD21NM', 'fclass'])\n",
    "    .agg(\n",
    "        area=('area', 'sum'),\n",
    "        count=('area', 'size')  # 多边形数量\n",
    "    )\n",
    "    .reset_index()\n",
    ")\n",
    "\n",
    "# 6. 计算每个 LAD 的 landuse 总面积\n",
    "total_area = (\n",
    "    grouped\n",
    "    .groupby(['LAD21CD', 'LAD21NM'])['area'].sum()\n",
    "    .reset_index(name='total_area')\n",
    ")\n",
    "\n",
    "# 7. 合并分组面积和总面积，算比例\n",
    "result = grouped.merge(total_area, on=['LAD21CD', 'LAD21NM'])\n",
    "result['area_ratio'] = result['area'] / result['total_area']\n",
    "\n",
    "#  显示前几行\n",
    "print(result.head())\n",
    "\n"
   ]
  },
  {
   "cell_type": "code",
   "execution_count": 11,
   "id": "38935652",
   "metadata": {},
   "outputs": [
    {
     "name": "stdout",
     "output_type": "stream",
     "text": [
      "     LAD21CD        LAD21NM                          group  \\\n",
      "0  E06000001     Hartlepool         Agricultural_and_Rural   \n",
      "1  E06000001     Hartlepool  Natural_Ecological_and_Public   \n",
      "2  E06000001     Hartlepool     Residential_and_Commercial   \n",
      "3  E06000002  Middlesbrough         Agricultural_and_Rural   \n",
      "4  E06000002  Middlesbrough  Natural_Ecological_and_Public   \n",
      "\n",
      "   landuse_total_area  landuse_total_count  landuse_total_ratio  \n",
      "0        5.985082e+07                  115             0.574073  \n",
      "1        1.821019e+07                  477             0.174667  \n",
      "2        2.619546e+07                  161             0.251260  \n",
      "3        1.364052e+07                   44             0.282225  \n",
      "4        6.062113e+06                  719             0.125426  \n"
     ]
    }
   ],
   "source": [
    "\n",
    "# 1. 读取数据\n",
    "df = result\n",
    "# 2. 建立英文分组映射字典\n",
    "\n",
    "\n",
    "group_map = {\n",
    "    'residential': 'Residential_and_Commercial',\n",
    "    'commercial': 'Residential_and_Commercial',\n",
    "    'retail': 'Residential_and_Commercial',\n",
    "    'industrial': 'Residential_and_Commercial',\n",
    "    'farmland': 'Agricultural_and_Rural',\n",
    "    'farmyard': 'Agricultural_and_Rural',\n",
    "    'orchard': 'Agricultural_and_Rural',\n",
    "    'meadow': 'Agricultural_and_Rural',\n",
    "    'allotments': 'Agricultural_and_Rural',\n",
    "    'quarry': 'Agricultural_and_Rural',\n",
    "    'military': 'Agricultural_and_Rural',\n",
    "    'forest': 'Natural_Ecological_and_Public',\n",
    "    'grass': 'Natural_Ecological_and_Public',\n",
    "    'heath': 'Natural_Ecological_and_Public',\n",
    "    'scrub': 'Natural_Ecological_and_Public',\n",
    "    'nature_reserve': 'Natural_Ecological_and_Public',\n",
    "    'park': 'Natural_Ecological_and_Public',\n",
    "    'recreation_ground': 'Natural_Ecological_and_Public',\n",
    "    'cemetery': 'Natural_Ecological_and_Public',\n",
    "}\n",
    "\n",
    "# 3. 添加分组列\n",
    "df['group'] = df['fclass'].map(group_map)\n",
    "\n",
    "# 4. 去除未分组的类型（如有）\n",
    "df = df.dropna(subset=['group'])\n",
    "\n",
    "# 5. 按 LAD 和分组汇总面积、数量、比例\n",
    "grouped = (\n",
    "    df.groupby(['LAD21CD', 'LAD21NM', 'group'])\n",
    "    .agg(\n",
    "        landuse_total_area=('area', 'sum'),\n",
    "        landuse_total_count=('count', 'sum'),\n",
    "        landuse_total_ratio=('area_ratio', 'sum')\n",
    "    )\n",
    "    .reset_index()\n",
    ")\n",
    "\n",
    "\n",
    "\n",
    "#  显示前几行\n",
    "print(grouped.head())\n",
    "\n"
   ]
  },
  {
   "cell_type": "code",
   "execution_count": null,
   "id": "4871f080",
   "metadata": {},
   "outputs": [],
   "source": [
    "\n",
    "\n",
    "# 读取数据\n",
    "df = grouped\n",
    "# 只保留需要的列\n",
    "df = df[['LAD21CD', 'LAD21NM', 'group', 'landuse_total_ratio']]\n",
    "\n",
    "# 透视表，landuse_group 展开为列\n",
    "pivot = df.pivot_table(\n",
    "    index=['LAD21CD', 'LAD21NM'],\n",
    "    columns='group',\n",
    "    values='landuse_total_ratio',\n",
    "    fill_value=0\n",
    ").reset_index()\n",
    "\n",
    "# 保存结果\n",
    "pivot.to_csv('output_data/LAD_landuse_group_stats_wide.csv', index=False)\n"
   ]
  }
 ],
 "metadata": {
  "kernelspec": {
   "display_name": "Python 3",
   "language": "python",
   "name": "python3"
  },
  "language_info": {
   "codemirror_mode": {
    "name": "ipython",
    "version": 3
   },
   "file_extension": ".py",
   "mimetype": "text/x-python",
   "name": "python",
   "nbconvert_exporter": "python",
   "pygments_lexer": "ipython3",
   "version": "3.12.8"
  }
 },
 "nbformat": 4,
 "nbformat_minor": 5
}
