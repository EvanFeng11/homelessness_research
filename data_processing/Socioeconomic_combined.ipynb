{
 "cells": [
  {
   "cell_type": "markdown",
   "id": "aaf3dda2",
   "metadata": {},
   "source": [
    "整合社会经济数据census文件中的汇总为output_data/merged_census_data.csv\n",
    "\n",
    "\n",
    "关于犯罪数据，会有一些重复，\n",
    "合并相同local authority code，汇总重复code的数值：\n",
    "整理之后为：\n",
    "output_data/cleaned_crime_total_sum.csv\n",
    "output_data/cleaned_crime_asb_sum.csv"
   ]
  },
  {
   "cell_type": "code",
   "execution_count": null,
   "id": "8a0dec70",
   "metadata": {},
   "outputs": [],
   "source": [
    "import pandas as pd\n",
    "import glob\n",
    "import os\n",
    "\n",
    "# 数据文件夹路径\n",
    "data_dir = 'census'\n",
    "# 获取所有 csv 文件路径\n",
    "csv_files = glob.glob(os.path.join(data_dir, '*.csv'))\n",
    "\n",
    "# 读取第一个文件，作为主表\n",
    "main_df = pd.read_csv(csv_files[0])\n",
    "\n",
    "# 只保留主键和数据列\n",
    "main_cols = [col for col in main_df.columns if col not in ['date', 'geography']]\n",
    "main_df = main_df[main_cols]\n",
    "\n",
    "# 依次合并其它文件\n",
    "for file in csv_files[1:]:\n",
    "    df = pd.read_csv(file)\n",
    "    # 只保留主键和数据列\n",
    "    cols = [col for col in df.columns if col not in ['date', 'geography']]\n",
    "    df = df[cols]\n",
    "    # 合并\n",
    "    main_df = pd.merge(main_df, df, on='geography code', how='outer')\n",
    "\n",
    "\n",
    "# 保存合并后的大表格\n",
    "main_df.to_csv('output_data/merged_census_data.csv', index=False)\n"
   ]
  },
  {
   "cell_type": "code",
   "execution_count": 16,
   "id": "9f24ca58",
   "metadata": {},
   "outputs": [
    {
     "name": "stdout",
     "output_type": "stream",
     "text": [
      "['Local Authority code', 'Local Authority name', 'Total recorded crime (excluding fraud)', 'Violence against the person']\n"
     ]
    }
   ],
   "source": [
    "df_crime = pd.read_csv('used_data/policeforceareatablesyemarch2025_c5.csv')\n",
    "print(df_crime.columns.tolist())\n"
   ]
  },
  {
   "cell_type": "markdown",
   "id": "132b9426",
   "metadata": {},
   "source": [
    "删除相同编码，并整合两种犯罪数据"
   ]
  },
  {
   "cell_type": "code",
   "execution_count": 4,
   "id": "3430752f",
   "metadata": {},
   "outputs": [
    {
     "name": "stdout",
     "output_type": "stream",
     "text": [
      "           Local Authority code  Local Authority name  Total recorded ASB  \\\n",
      "0    Combined Local Authorities                  None             36588.0   \n",
      "1                     E06000001            Hartlepool              2846.0   \n",
      "2                     E06000002         Middlesbrough              5548.0   \n",
      "3                     E06000003  Redcar and Cleveland              3870.0   \n",
      "4                     E06000004      Stockton-on-Tees              4788.0   \n",
      "..                          ...                   ...                 ...   \n",
      "294                   W06000019         Blaenau Gwent              1577.0   \n",
      "295                   W06000020               Torfaen              1584.0   \n",
      "296                   W06000021         Monmouthshire              1047.0   \n",
      "297                   W06000022               Newport              3603.0   \n",
      "298                   W06000023                 Powys              1268.0   \n",
      "\n",
      "     Environmental ASB  Nuisance ASB  Personal ASB  \n",
      "0               2944.0       26792.0        6852.0  \n",
      "1                 54.0        2644.0         148.0  \n",
      "2                 76.0        5199.0         273.0  \n",
      "3                 69.0        3591.0         210.0  \n",
      "4                 78.0        4465.0         245.0  \n",
      "..                 ...           ...           ...  \n",
      "294              190.0        1204.0         183.0  \n",
      "295              128.0        1217.0         239.0  \n",
      "296               57.0         826.0         164.0  \n",
      "297              325.0        2931.0         347.0  \n",
      "298              130.0         934.0         204.0  \n",
      "\n",
      "[299 rows x 6 columns]\n"
     ]
    }
   ],
   "source": [
    "import pandas as pd\n",
    "\n",
    "\n",
    "df = pd.read_csv('crime/annualsupplementarytablesmarch2025_c16.csv')\n",
    "\n",
    "# 数值列名（根据你的实际字段调整）\n",
    "value_cols = [\n",
    "    'Total recorded ASB',\n",
    "    'Environmental ASB',\n",
    "    'Nuisance ASB',\n",
    "    'Personal ASB'\n",
    "]\n",
    "\n",
    "# 先把数值类字段转为数字（去掉逗号，防止报错）\n",
    "for col in value_cols:\n",
    "    df[col] = df[col].astype(str).str.replace(',', '').astype(float)\n",
    "\n",
    "# 按 code 分组，数值列求和，名称取第一个\n",
    "result_asb = df.groupby('Local Authority code', as_index=False).agg({\n",
    "    'Local Authority name': 'first',\n",
    "    'Total recorded ASB': 'sum',\n",
    "    'Environmental ASB': 'sum',\n",
    "    'Nuisance ASB': 'sum',\n",
    "    'Personal ASB': 'sum'\n",
    "})\n",
    "\n",
    "print(result_asb)\n",
    "result_asb.to_csv('output_data/cleaned_crime_asb_sum.csv', index=False)"
   ]
  },
  {
   "cell_type": "code",
   "execution_count": 5,
   "id": "93b0b532",
   "metadata": {},
   "outputs": [
    {
     "name": "stdout",
     "output_type": "stream",
     "text": [
      "['Local Authority code', 'Local Authority name', 'Total recorded crime (excluding fraud)', 'Violence against the person']\n",
      "         Local Authority code  Local Authority name  \\\n",
      "0  Combined Local Authorities                  None   \n",
      "1                   E06000001            Hartlepool   \n",
      "2                   E06000002         Middlesbrough   \n",
      "3                   E06000003  Redcar and Cleveland   \n",
      "4                   E06000004      Stockton-on-Tees   \n",
      "\n",
      "   Total recorded crime (excluding fraud)  Violence against the person  \n",
      "0                                196409.0                      78124.0  \n",
      "1                                 13416.0                       5100.0  \n",
      "2                                 24709.0                       9348.0  \n",
      "3                                 15713.0                       5834.0  \n",
      "4                                 22452.0                       8182.0  \n"
     ]
    }
   ],
   "source": [
    "\n",
    "\n",
    "# 读取文件，自动识别分隔符和去除 BOM\n",
    "df = pd.read_csv('crime/policeforceareatablesyemarch2025_c5.csv', encoding='utf-8-sig')\n",
    "\n",
    "# 查看字段名\n",
    "print(df.columns.tolist())\n",
    "\n",
    "# 假设字段名如下（请根据实际字段调整）\n",
    "# ['Local Authority code', 'Local Authority name', 'Total recorded crime (excluding fraud)', 'Violence against the person']\n",
    "\n",
    "# 如果数值字段带引号或逗号，需要处理\n",
    "value_cols = [\n",
    "    'Total recorded crime (excluding fraud)',\n",
    "    'Violence against the person'\n",
    "    # 这里可以补充其它数值字段\n",
    "]\n",
    "\n",
    "# 去除引号和逗号，转为数字\n",
    "for col in value_cols:\n",
    "    df[col] = df[col].astype(str).str.replace('\"', '').str.replace(',', '').astype(float)\n",
    "\n",
    "# 分组汇总\n",
    "result_crime_total = df.groupby('Local Authority code', as_index=False).agg({\n",
    "    'Local Authority name': 'first',\n",
    "    'Total recorded crime (excluding fraud)': 'sum',\n",
    "    'Violence against the person': 'sum'\n",
    "    # 其它数值字段也这样写\n",
    "})\n",
    "\n",
    "print(result_crime_total.head())\n",
    "\n",
    "result_crime_total.to_csv('output_data/cleaned_crime_total_sum.csv', index=False)\n"
   ]
  }
 ],
 "metadata": {
  "kernelspec": {
   "display_name": "Python 3",
   "language": "python",
   "name": "python3"
  },
  "language_info": {
   "codemirror_mode": {
    "name": "ipython",
    "version": 3
   },
   "file_extension": ".py",
   "mimetype": "text/x-python",
   "name": "python",
   "nbconvert_exporter": "python",
   "pygments_lexer": "ipython3",
   "version": "3.12.8"
  }
 },
 "nbformat": 4,
 "nbformat_minor": 5
}
